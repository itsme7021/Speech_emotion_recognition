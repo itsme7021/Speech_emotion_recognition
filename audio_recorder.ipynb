{
 "cells": [
  {
   "cell_type": "code",
   "execution_count": 10,
   "metadata": {},
   "outputs": [
    {
     "name": "stdout",
     "output_type": "stream",
     "text": [
      "Collecting pipwin\n",
      "  Using cached https://files.pythonhosted.org/packages/47/c0/bbc75b78307ddc1f7d83b9daaad25c3a3c6101ac18c92e010c53cc005ff2/pipwin-0.5.1.tar.gz\n",
      "Collecting docopt (from pipwin)\n",
      "  Using cached https://files.pythonhosted.org/packages/a2/55/8f8cab2afd404cf578136ef2cc5dfb50baa1761b68c9da1fb1e4eed343c9/docopt-0.6.2.tar.gz\n",
      "Requirement already satisfied: requests in c:\\users\\ayush goyal\\anaconda3\\lib\\site-packages (from pipwin) (2.22.0)\n",
      "Collecting pyprind (from pipwin)\n",
      "  Using cached https://files.pythonhosted.org/packages/ab/b3/1f12ebc5009c65b607509393ad98240728b4401bc3593868fb161fdd3760/PyPrind-2.11.3-py2.py3-none-any.whl\n",
      "Requirement already satisfied: six in c:\\users\\ayush goyal\\anaconda3\\lib\\site-packages (from pipwin) (1.12.0)\n",
      "Collecting beautifulsoup4>=4.9.0 (from pipwin)\n",
      "  Using cached https://files.pythonhosted.org/packages/d1/41/e6495bd7d3781cee623ce23ea6ac73282a373088fcd0ddc809a047b18eae/beautifulsoup4-4.9.3-py3-none-any.whl\n",
      "Collecting js2py (from pipwin)\n",
      "  Using cached https://files.pythonhosted.org/packages/68/16/5f671ca7a8278ce5fa57dd97aa2427588be08505816238277600bab2cea9/Js2Py-0.71-py3-none-any.whl\n",
      "Requirement already satisfied: packaging in c:\\users\\ayush goyal\\anaconda3\\lib\\site-packages (from pipwin) (19.2)\n",
      "Collecting pySmartDL>=1.3.1 (from pipwin)\n",
      "  Using cached https://files.pythonhosted.org/packages/ac/6a/582286ea74c54363cba30413214767904f0a239e12253c3817feaf78453f/pySmartDL-1.3.4-py3-none-any.whl\n",
      "Requirement already satisfied: certifi>=2017.4.17 in c:\\users\\ayush goyal\\anaconda3\\lib\\site-packages (from requests->pipwin) (2019.9.11)\n",
      "Requirement already satisfied: idna<2.9,>=2.5 in c:\\users\\ayush goyal\\anaconda3\\lib\\site-packages (from requests->pipwin) (2.8)\n",
      "Requirement already satisfied: chardet<3.1.0,>=3.0.2 in c:\\users\\ayush goyal\\anaconda3\\lib\\site-packages (from requests->pipwin) (3.0.4)\n",
      "Requirement already satisfied: urllib3!=1.25.0,!=1.25.1,<1.26,>=1.21.1 in c:\\users\\ayush goyal\\anaconda3\\lib\\site-packages (from requests->pipwin) (1.24.2)\n",
      "Requirement already satisfied: soupsieve>1.2; python_version >= \"3.0\" in c:\\users\\ayush goyal\\anaconda3\\lib\\site-packages (from beautifulsoup4>=4.9.0->pipwin) (1.9.3)\n",
      "Collecting pyjsparser>=2.5.1 (from js2py->pipwin)\n",
      "  Using cached https://files.pythonhosted.org/packages/48/ef/c72abcfa2c6accd03e7c89c400790fc3d908c5804d50a7c4e9ceabd74d23/pyjsparser-2.7.1.tar.gz\n",
      "Collecting tzlocal>=1.2 (from js2py->pipwin)\n",
      "  Using cached https://files.pythonhosted.org/packages/5d/94/d47b0fd5988e6b7059de05720a646a2930920fff247a826f61674d436ba4/tzlocal-2.1-py2.py3-none-any.whl\n",
      "Requirement already satisfied: pyparsing>=2.0.2 in c:\\users\\ayush goyal\\anaconda3\\lib\\site-packages (from packaging->pipwin) (2.4.2)\n",
      "Requirement already satisfied: pytz in c:\\users\\ayush goyal\\anaconda3\\lib\\site-packages (from tzlocal>=1.2->js2py->pipwin) (2019.3)\n",
      "Building wheels for collected packages: pipwin, docopt, pyjsparser\n",
      "  Building wheel for pipwin (setup.py): started\n",
      "  Building wheel for pipwin (setup.py): finished with status 'done'\n",
      "  Created wheel for pipwin: filename=pipwin-0.5.1-py2.py3-none-any.whl size=8782 sha256=7ea5edfdb5de11299a55827c0201f6169c4ab1847f0db07c0da936153a5ef445\n",
      "  Stored in directory: C:\\Users\\AYUSH GOYAL\\AppData\\Local\\pip\\Cache\\wheels\\ed\\b5\\a9\\f8bf742bfd2a45bea5b27368a5e3e5a390cda636d40829a1fc\n",
      "  Building wheel for docopt (setup.py): started\n",
      "  Building wheel for docopt (setup.py): finished with status 'done'\n",
      "  Created wheel for docopt: filename=docopt-0.6.2-py2.py3-none-any.whl size=13709 sha256=37ecd7d4322d3168a65b839553bea6991528ca1cc12a2ca577d5c941016fe3c6\n",
      "  Stored in directory: C:\\Users\\AYUSH GOYAL\\AppData\\Local\\pip\\Cache\\wheels\\9b\\04\\dd\\7daf4150b6d9b12949298737de9431a324d4b797ffd63f526e\n",
      "  Building wheel for pyjsparser (setup.py): started\n",
      "  Building wheel for pyjsparser (setup.py): finished with status 'done'\n",
      "  Created wheel for pyjsparser: filename=pyjsparser-2.7.1-cp37-none-any.whl size=26004 sha256=7ba2832c5cfded0a6647007204c9bd0622acce1fd444c1ee62bb328aa05f69ab\n",
      "  Stored in directory: C:\\Users\\AYUSH GOYAL\\AppData\\Local\\pip\\Cache\\wheels\\a2\\73\\e6\\3e433f3fd78257c3f971baf8cc9001cc0c4797268c61751e89\n",
      "Successfully built pipwin docopt pyjsparser\n",
      "Installing collected packages: docopt, pyprind, beautifulsoup4, pyjsparser, tzlocal, js2py, pySmartDL, pipwin\n",
      "  Found existing installation: beautifulsoup4 4.8.0\n",
      "    Uninstalling beautifulsoup4-4.8.0:\n",
      "      Successfully uninstalled beautifulsoup4-4.8.0\n",
      "Successfully installed beautifulsoup4-4.9.3 docopt-0.6.2 js2py-0.71 pipwin-0.5.1 pySmartDL-1.3.4 pyjsparser-2.7.1 pyprind-2.11.3 tzlocal-2.1\n"
     ]
    }
   ],
   "source": [
    "!pip install pipwin"
   ]
  },
  {
   "cell_type": "code",
   "execution_count": 9,
   "metadata": {},
   "outputs": [
    {
     "name": "stdout",
     "output_type": "stream",
     "text": [
      "Collecting wave\n",
      "  Using cached https://files.pythonhosted.org/packages/df/33/5a06e0c47a147b2683876ba7c576fad13e92b0b16755eb431e56c341e0cf/Wave-0.0.2.tar.gz\n",
      "Building wheels for collected packages: wave\n",
      "  Building wheel for wave (setup.py): started\n",
      "  Building wheel for wave (setup.py): finished with status 'done'\n",
      "  Created wheel for wave: filename=Wave-0.0.2-cp37-none-any.whl size=1251 sha256=3ea786ba089510d56801e63667b2d0970d5a8b01135642acf6edae0d185f16c6\n",
      "  Stored in directory: C:\\Users\\AYUSH GOYAL\\AppData\\Local\\pip\\Cache\\wheels\\8c\\2e\\ad\\d96151afb1fdccf126346b26eabb91fec3c5ce5cbee7287fbf\n",
      "Successfully built wave\n",
      "Installing collected packages: wave\n",
      "Successfully installed wave-0.0.2\n"
     ]
    }
   ],
   "source": [
    "!pip install wave"
   ]
  },
  {
   "cell_type": "code",
   "execution_count": 11,
   "metadata": {},
   "outputs": [
    {
     "name": "stdout",
     "output_type": "stream",
     "text": [
      "Package `pyaudio` found in cache\n",
      "Downloading package . . .\n",
      "https://download.lfd.uci.edu/pythonlibs/w4tscw6k/PyAudio-0.2.11-cp37-cp37m-win_amd64.whl\n",
      "PyAudio-0.2.11-cp37-cp37m-win_amd64.whl\n",
      "[*] 0 bytes / 109 kB @ 0 bytes/s [------------------] [0.0%, 0s left]   [*] 0 bytes / 109 kB @ 0 bytes/s [------------------] [0.0%, 0s left]   [*] 0 bytes / 109 kB @ 0 bytes/s [------------------] [0.0%, 0s left]   [*] 0 bytes / 109 kB @ 0 bytes/s [------------------] [0.0%, 0s left]   [*] 0 bytes / 109 kB @ 0 bytes/s [------------------] [0.0%, 0s left]   [*] 0 bytes / 109 kB @ 0 bytes/s [------------------] [0.0%, 0s left]   [*] 0 bytes / 109 kB @ 0 bytes/s [------------------] [0.0%, 0s left]   [*] 0 bytes / 109 kB @ 0 bytes/s [------------------] [0.0%, 0s left]   [*] 0 bytes / 109 kB @ 0 bytes/s [------------------] [0.0%, 0s left]   [*] 0 bytes / 109 kB @ 0 bytes/s [------------------] [0.0%, 0s left]   [*] 0 bytes / 109 kB @ 0 bytes/s [------------------] [0.0%, 0s left]   [*] 0 bytes / 109 kB @ 0 bytes/s [------------------] [0.0%, 0s left]   [*] 0 bytes / 109 kB @ 0 bytes/s [------------------] [0.0%, 0s left]   [*] 0 bytes / 109 kB @ 0 bytes/s [------------------] [0.0%, 0s left]   [*] 0 bytes / 109 kB @ 0 bytes/s [------------------] [0.0%, 0s left]   [*] 0 bytes / 109 kB @ 0 bytes/s [------------------] [0.0%, 0s left]   [*] 0 bytes / 109 kB @ 0 bytes/s [------------------] [0.0%, 0s left]   [*] 0 bytes / 109 kB @ 0 bytes/s [------------------] [0.0%, 0s left]   [*] 0 bytes / 109 kB @ 0 bytes/s [------------------] [0.0%, 0s left]   [*] 0 bytes / 109 kB @ 0 bytes/s [------------------] [0.0%, 0s left]   [*] 0 bytes / 109 kB @ 0 bytes/s [------------------] [0.0%, 0s left]   [*] 0 bytes / 109 kB @ 0 bytes/s [------------------] [0.0%, 0s left]   [*] 0 bytes / 109 kB @ 0 bytes/s [------------------] [0.0%, 0s left]   [*] 0 bytes / 109 kB @ 0 bytes/s [------------------] [0.0%, 0s left]   [*] 0 bytes / 109 kB @ 0 bytes/s [------------------] [0.0%, 0s left]   [*] 0 bytes / 109 kB @ 0 bytes/s [------------------] [0.0%, 0s left]   [*] 0 bytes / 109 kB @ 0 bytes/s [------------------] [0.0%, 0s left]   [*] 0 bytes / 109 kB @ 0 bytes/s [------------------] [0.0%, 0s left]   [*] 0 bytes / 109 kB @ 0 bytes/s [------------------] [0.0%, 0s left]   [*] 0 bytes / 109 kB @ 0 bytes/s [------------------] [0.0%, 0s left]   [*] 0 bytes / 109 kB @ 0 bytes/s [------------------] [0.0%, 0s left]   [*] 8 kB / 109 kB @ 3 kB/s [#-----------------] [7.4%, 0s left]   [*] 8 kB / 109 kB @ 3 kB/s [#-----------------] [7.4%, 0s left]   [*] 8 kB / 109 kB @ 3 kB/s [#-----------------] [7.4%, 0s left]   [*] 24 kB / 109 kB @ 8 kB/s [###---------------] [22.1%, 0s left]   [*] 24 kB / 109 kB @ 8 kB/s [###---------------] [22.1%, 0s left]   [*] 24 kB / 109 kB @ 8 kB/s [###---------------] [22.1%, 0s left]   [*] 24 kB / 109 kB @ 8 kB/s [###---------------] [22.1%, 0s left]   [*] 56 kB / 109 kB @ 19 kB/s [#########---------] [51.6%, 0s left]  [*] 56 kB / 109 kB @ 19 kB/s [#########---------] [51.6%, 0s left]  [*] 56 kB / 109 kB @ 19 kB/s [#########---------] [51.6%, 0s left]  [*] 56 kB / 109 kB @ 19 kB/s [#########---------] [51.6%, 0s left]  [*] 56 kB / 109 kB @ 19 kB/s [#########---------] [51.6%, 0s left]  [*] 56 kB / 109 kB @ 19 kB/s [#########---------] [51.6%, 0s left]  [*] 56 kB / 109 kB @ 19 kB/s [#########---------] [51.6%, 0s left]  Processing c:\\users\\ayush goyal\\pipwin\\pyaudio-0.2.11-cp37-cp37m-win_amd64.whl\n",
      "Installing collected packages: PyAudio\n",
      "Successfully installed PyAudio-0.2.11\n",
      "[*] 109 kB / 109 kB @ 19 kB/s [##################] [100%, 0s left]    \n"
     ]
    }
   ],
   "source": [
    "!pipwin install pyaudio"
   ]
  },
  {
   "cell_type": "code",
   "execution_count": 2,
   "metadata": {},
   "outputs": [
    {
     "name": "stdout",
     "output_type": "stream",
     "text": [
      "* recording\n",
      "* done recording\n"
     ]
    }
   ],
   "source": [
    "import pyaudio\n",
    "import wave\n",
    "\n",
    "CHUNK = 1024 \n",
    "FORMAT = pyaudio.paInt16 #paInt8\n",
    "CHANNELS = 2 \n",
    "RATE = 44100 #sample rate\n",
    "RECORD_SECONDS = 3\n",
    "WAVE_OUTPUT_FILENAME = \"output10.wav\"\n",
    "\n",
    "p = pyaudio.PyAudio()\n",
    "\n",
    "stream = p.open(format=FORMAT,\n",
    "                channels=CHANNELS,\n",
    "                rate=RATE,\n",
    "                input=True,\n",
    "                frames_per_buffer=CHUNK) #buffer\n",
    "\n",
    "print(\"* recording\")\n",
    "\n",
    "frames = []\n",
    "\n",
    "for i in range(0, int(RATE / CHUNK * RECORD_SECONDS)):\n",
    "    data = stream.read(CHUNK)\n",
    "    frames.append(data) # 2 bytes(16 bits) per channel\n",
    "\n",
    "print(\"* done recording\")\n",
    "\n",
    "stream.stop_stream()\n",
    "stream.close()\n",
    "p.terminate()\n",
    "\n",
    "wf = wave.open(WAVE_OUTPUT_FILENAME, 'wb')\n",
    "wf.setnchannels(CHANNELS)\n",
    "wf.setsampwidth(p.get_sample_size(FORMAT))\n",
    "wf.setframerate(RATE)\n",
    "wf.writeframes(b''.join(frames))\n",
    "wf.close()"
   ]
  }
 ],
 "metadata": {
  "kernelspec": {
   "display_name": "Python 3",
   "language": "python",
   "name": "python3"
  },
  "language_info": {
   "codemirror_mode": {
    "name": "ipython",
    "version": 3
   },
   "file_extension": ".py",
   "mimetype": "text/x-python",
   "name": "python",
   "nbconvert_exporter": "python",
   "pygments_lexer": "ipython3",
   "version": "3.7.4"
  }
 },
 "nbformat": 4,
 "nbformat_minor": 2
}
